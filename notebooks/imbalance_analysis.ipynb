{
 "cells": [
  {
   "cell_type": "markdown",
   "id": "5a71df60",
   "metadata": {},
   "source": [
    "# Data imbalance analysis\n",
    "## Comparing the impact of dataset imbalance on classification performance metrics\n",
    "In this notebook, we are going to explore how data imbalance affect classification scores on four different tasks, which have been chosen to exemplify typical use cases of ML analysis in neuroscience. To keep it simple, we will focus on binary classification problems (0 vs 1).\n",
    "\n",
    "The four tasks are :\n",
    "1. Synthetic data\n",
    "2. EEG alpha oscillations (resting-state Eyes-Closed vs Eyes-Open)\n",
    "3. MEG alpha oscillations (auditory vs visual stimulation)\n",
    "4. MEG alpha oscillations (faces vs scrambled) \n",
    "\n",
    "In these tasks, we will observe the effect of data imbalance on 4 different performance metrics :   \n",
    "1. Decoding Accuracy (Acc)  \n",
    "2. Area Under the Curve (AUC)\n",
    "3. F1\n",
    "4. Balanced Accuracy (BAcc)\n",
    "\n",
    "Finally, a few parameters of the classification pipeline must be kept in mind as they can also differentially impact performance on imbalanced data. Namely :\n",
    "- Dataset size\n",
    "- Classifier type\n",
    "    - Support Vector Machine (SVM)\n",
    "    - Linear Discriminant Analysis (LDA)\n",
    "    - Logistic Regression (LR)\n",
    "    - Random Forest (RF)\n",
    "- Cross-validation scheme\n",
    "    - K-Fold, k=5\n",
    "    - Stratified K-Fold\n",
    "    - Group K-Fold"
   ]
  },
  {
   "cell_type": "markdown",
   "id": "6890f8a3",
   "metadata": {},
   "source": [
    "## Imports\n",
    "First, we start by importing functions from the provided toolbox as well as some useful plotting functions."
   ]
  },
  {
   "cell_type": "code",
   "execution_count": 9,
   "id": "70295ea0",
   "metadata": {},
   "outputs": [],
   "source": [
    "from imbalance.pipeline import Pipeline\n",
    "from imbalance.viz import metric_balance, data_distribution\n",
    "from imbalance.data import eegbci, gaussian_binary\n",
    "from joblib import Parallel, delayed\n",
    "from sklearn.model_selection import (\n",
    "    KFold,\n",
    "    StratifiedKFold,\n",
    "    StratifiedGroupKFold,\n",
    ")\n",
    "import os\n",
    "import numpy as np\n",
    "import matplotlib.pyplot as plt\n",
    "import string\n",
    "from copy import deepcopy\n",
    "import warnings\n",
    "warnings.simplefilter(\"ignore\", RuntimeWarning)"
   ]
  },
  {
   "cell_type": "markdown",
   "id": "25df7c6a",
   "metadata": {},
   "source": [
    "## Task 1 : Synthetic data\n",
    "For that first classification task, we will generate data from two gaussian distributions, with means of 0 and 2."
   ]
  },
  {
   "cell_type": "code",
   "execution_count": 2,
   "id": "054bf96e",
   "metadata": {
    "scrolled": true
   },
   "outputs": [
    {
     "name": "stderr",
     "output_type": "stream",
     "text": [
      "fitting classifiers: 100%|██████████| 750/750 [06:13<00:00,  2.01it/s, size=1, balance=0.9, classifier=SVC]                          "
     ]
    }
   ],
   "source": [
    "pls = []\n",
    "#for distance in [0,1,3]:\n",
    "    \n",
    "def run(distance):\n",
    "    # generate random data\n",
    "    x, y, groups = gaussian_binary(n_samples_per_class=500, mean_distance=distance)\n",
    "    # run the pipeline\n",
    "    pl = Pipeline(\n",
    "        x,\n",
    "        y,\n",
    "        groups,\n",
    "        dataset_balance=np.linspace(0.1, 0.9, 25),\n",
    "        classifiers=[\"lr\", \"lda\", \"svm\"],# \"rf\"],\n",
    "        metrics=[\"roc_auc\", \"accuracy\", \"f1\", \"balanced_accuracy\"],\n",
    "        n_permutations=100,\n",
    "        n_init=10,\n",
    "    )\n",
    "    pl.evaluate()\n",
    "    return deepcopy(pl)\n",
    "\n",
    "\n",
    "\n",
    "pls = Parallel(n_jobs=3)(delayed(run)(dist) for dist in [0, 1, 3])"
   ]
  },
  {
   "cell_type": "code",
   "execution_count": null,
   "id": "3718aaf2",
   "metadata": {},
   "outputs": [
    {
     "name": "stderr",
     "output_type": "stream",
     "text": [
      "fitting classifiers:   0%|                              | 0/75 [00:00<?, ?it/s, size=0.1, balance=0.1, classifier=SVC]"
     ]
    }
   ],
   "source": [
    "# generate random data\n",
    "x, y, groups = gaussian_binary(n_samples_per_class=1500, n_groups=5, mean_distance=1)\n",
    "# run the pipeline\n",
    "pl_nsamples = Pipeline(\n",
    "    x,\n",
    "    y,\n",
    "    groups,\n",
    "    dataset_balance=np.linspace(0.1, 0.9, 25),\n",
    "    classifiers=[\"svm\"],# \"rf\"],\n",
    "    metrics=[\"roc_auc\", \"accuracy\", \"f1\", \"balanced_accuracy\"],\n",
    "    n_permutations=0,\n",
    "    n_init=1,\n",
    "    dataset_size=(0.1, 0.33, 1)\n",
    ")\n",
    "pl_nsamples.evaluate()"
   ]
  },
  {
   "cell_type": "code",
   "execution_count": null,
   "id": "b3f00fcc",
   "metadata": {},
   "outputs": [
    {
     "name": "stderr",
     "output_type": "stream",
     "text": [
      "\n",
      "fitting classifiers:   0%|                                                                    | 0/750 [00:00<?, ?it/s]\u001b[A\n",
      "fitting classifiers:   0%|                | 0/750 [00:00<?, ?it/s, size=1, balance=0.1, classifier=LogisticRegression]\u001b[A\n",
      "fitting classifiers:   0%|        | 1/750 [00:02<33:25,  2.68s/it, size=1, balance=0.1, classifier=LogisticRegression]\u001b[A\n",
      "fitting classifiers:   0%| | 1/750 [00:02<33:25,  2.68s/it, size=1, balance=0.1, classifier=LinearDiscriminantAnalysis\u001b[A\n",
      "fitting classifiers:   0%| | 2/750 [00:04<23:26,  1.88s/it, size=1, balance=0.1, classifier=LinearDiscriminantAnalysis\u001b[A\n",
      "fitting classifiers:   0%|                       | 2/750 [00:04<23:26,  1.88s/it, size=1, balance=0.1, classifier=SVC]\u001b[A\n",
      "fitting classifiers:   0%|                       | 3/750 [00:05<22:20,  1.80s/it, size=1, balance=0.1, classifier=SVC]\u001b[A\n",
      "fitting classifiers:   0%|      | 3/750 [00:05<22:20,  1.80s/it, size=1, balance=0.133, classifier=LogisticRegression]\u001b[A\n",
      "fitting classifiers:   1%|      | 4/750 [00:07<20:53,  1.68s/it, size=1, balance=0.133, classifier=LogisticRegression]\u001b[A\n",
      "fitting classifiers:   1%| | 4/750 [00:07<20:53,  1.68s/it, size=1, balance=0.133, classifier=LinearDiscriminantAnalys\u001b[A\n",
      "fitting classifiers:   1%| | 5/750 [00:08<20:01,  1.61s/it, size=1, balance=0.133, classifier=LinearDiscriminantAnalys\u001b[A\n",
      "fitting classifiers:   1%|▏                    | 5/750 [00:08<20:01,  1.61s/it, size=1, balance=0.133, classifier=SVC]\u001b[A\n",
      "fitting classifiers:   1%|▏                    | 6/750 [00:10<20:46,  1.68s/it, size=1, balance=0.133, classifier=SVC]\u001b[A\n",
      "fitting classifiers:   1%|      | 6/750 [00:10<20:46,  1.68s/it, size=1, balance=0.167, classifier=LogisticRegression]\u001b[A\n",
      "fitting classifiers:   1%|      | 7/750 [00:11<19:49,  1.60s/it, size=1, balance=0.167, classifier=LogisticRegression]\u001b[A\n",
      "fitting classifiers:   1%| | 7/750 [00:11<19:49,  1.60s/it, size=1, balance=0.167, classifier=LinearDiscriminantAnalys\u001b[A\n",
      "fitting classifiers:   1%| | 8/750 [00:13<18:45,  1.52s/it, size=1, balance=0.167, classifier=LinearDiscriminantAnalys\u001b[A\n",
      "fitting classifiers:   1%|▏                    | 8/750 [00:13<18:45,  1.52s/it, size=1, balance=0.167, classifier=SVC]\u001b[A\n",
      "fitting classifiers:   1%|▎                    | 9/750 [00:15<19:44,  1.60s/it, size=1, balance=0.167, classifier=SVC]\u001b[A\n",
      "fitting classifiers:   1%|        | 9/750 [00:15<19:44,  1.60s/it, size=1, balance=0.2, classifier=LogisticRegression]\u001b[A\n",
      "fitting classifiers:   1%|       | 10/750 [00:16<18:52,  1.53s/it, size=1, balance=0.2, classifier=LogisticRegression]\u001b[A\n",
      "fitting classifiers:   1%| | 10/750 [00:16<18:52,  1.53s/it, size=1, balance=0.2, classifier=LinearDiscriminantAnalysi\u001b[A\n",
      "fitting classifiers:   1%| | 11/750 [00:17<17:51,  1.45s/it, size=1, balance=0.2, classifier=LinearDiscriminantAnalysi\u001b[A\n",
      "fitting classifiers:   1%|▎                     | 11/750 [00:17<17:51,  1.45s/it, size=1, balance=0.2, classifier=SVC]\u001b[A\n",
      "fitting classifiers:   2%|▎                     | 12/750 [00:19<19:29,  1.58s/it, size=1, balance=0.2, classifier=SVC]\u001b[A\n",
      "fitting classifiers:   2%|     | 12/750 [00:19<19:29,  1.58s/it, size=1, balance=0.233, classifier=LogisticRegression]\u001b[A\n",
      "fitting classifiers:   2%|     | 13/750 [00:20<18:46,  1.53s/it, size=1, balance=0.233, classifier=LogisticRegression]\u001b[A\n",
      "fitting classifiers:   2%| | 13/750 [00:20<18:46,  1.53s/it, size=1, balance=0.233, classifier=LinearDiscriminantAnaly\u001b[A\n",
      "fitting classifiers:   2%| | 14/750 [00:22<17:48,  1.45s/it, size=1, balance=0.233, classifier=LinearDiscriminantAnaly\u001b[A\n",
      "fitting classifiers:   2%|▎                   | 14/750 [00:22<17:48,  1.45s/it, size=1, balance=0.233, classifier=SVC]\u001b[A\n",
      "fitting classifiers:   2%|▍                   | 15/750 [00:24<19:57,  1.63s/it, size=1, balance=0.233, classifier=SVC]\u001b[A\n",
      "fitting classifiers:   2%|     | 15/750 [00:24<19:57,  1.63s/it, size=1, balance=0.267, classifier=LogisticRegression]\u001b[A\n",
      "fitting classifiers:   2%|     | 16/750 [00:25<19:37,  1.60s/it, size=1, balance=0.267, classifier=LogisticRegression]\u001b[A\n",
      "fitting classifiers:   2%| | 16/750 [00:25<19:37,  1.60s/it, size=1, balance=0.267, classifier=LinearDiscriminantAnaly\u001b[A\n",
      "fitting classifiers:   2%| | 17/750 [00:27<18:45,  1.54s/it, size=1, balance=0.267, classifier=LinearDiscriminantAnaly\u001b[A\n",
      "fitting classifiers:   2%|▍                   | 17/750 [00:27<18:45,  1.54s/it, size=1, balance=0.267, classifier=SVC]\u001b[A\n",
      "fitting classifiers:   2%|▍                   | 18/750 [00:30<23:56,  1.96s/it, size=1, balance=0.267, classifier=SVC]\u001b[A\n",
      "fitting classifiers:   2%|▏      | 18/750 [00:30<23:56,  1.96s/it, size=1, balance=0.3, classifier=LogisticRegression]\u001b[A\n",
      "fitting classifiers:   3%|▏      | 19/750 [00:31<22:34,  1.85s/it, size=1, balance=0.3, classifier=LogisticRegression]\u001b[A\n",
      "fitting classifiers:   0%|                              | 0/75 [07:11<?, ?it/s, size=0.1, balance=0.1, classifier=SVC]\u001b[A\n",
      "\n",
      "fitting classifiers:   3%| | 20/750 [00:33<21:15,  1.75s/it, size=1, balance=0.3, classifier=LinearDiscriminantAnalysi\u001b[A\n",
      "fitting classifiers:   3%|▌                     | 20/750 [00:33<21:15,  1.75s/it, size=1, balance=0.3, classifier=SVC]\u001b[A\n",
      "fitting classifiers:   3%|▌                     | 21/750 [00:36<26:40,  2.20s/it, size=1, balance=0.3, classifier=SVC]\u001b[A\n",
      "fitting classifiers:   3%|▏    | 21/750 [00:36<26:40,  2.20s/it, size=1, balance=0.333, classifier=LogisticRegression]\u001b[A\n",
      "fitting classifiers:   3%|▏    | 22/750 [00:38<24:30,  2.02s/it, size=1, balance=0.333, classifier=LogisticRegression]\u001b[A\n",
      "fitting classifiers:   3%| | 22/750 [00:38<24:30,  2.02s/it, size=1, balance=0.333, classifier=LinearDiscriminantAnaly\u001b[A\n",
      "fitting classifiers:   3%| | 23/750 [00:39<22:04,  1.82s/it, size=1, balance=0.333, classifier=LinearDiscriminantAnaly\u001b[A\n",
      "fitting classifiers:   3%|▌                   | 23/750 [00:39<22:04,  1.82s/it, size=1, balance=0.333, classifier=SVC]\u001b[A\n",
      "fitting classifiers:   3%|▋                   | 24/750 [00:43<28:54,  2.39s/it, size=1, balance=0.333, classifier=SVC]\u001b[A\n",
      "fitting classifiers:   3%|▏    | 24/750 [00:43<28:54,  2.39s/it, size=1, balance=0.367, classifier=LogisticRegression]\u001b[A\n",
      "fitting classifiers:   3%|▏    | 25/750 [00:44<26:00,  2.15s/it, size=1, balance=0.367, classifier=LogisticRegression]\u001b[A\n",
      "fitting classifiers:   3%| | 25/750 [00:44<26:00,  2.15s/it, size=1, balance=0.367, classifier=LinearDiscriminantAnaly\u001b[A\n",
      "fitting classifiers:   3%| | 26/750 [00:46<23:25,  1.94s/it, size=1, balance=0.367, classifier=LinearDiscriminantAnaly\u001b[A\n",
      "fitting classifiers:   3%|▋                   | 26/750 [00:46<23:25,  1.94s/it, size=1, balance=0.367, classifier=SVC]\u001b[A\n",
      "fitting classifiers:   4%|▋                   | 27/750 [00:50<31:11,  2.59s/it, size=1, balance=0.367, classifier=SVC]\u001b[A\n",
      "fitting classifiers:   4%|▎      | 27/750 [00:50<31:11,  2.59s/it, size=1, balance=0.4, classifier=LogisticRegression]\u001b[A\n",
      "fitting classifiers:   4%|▎      | 28/750 [00:51<27:39,  2.30s/it, size=1, balance=0.4, classifier=LogisticRegression]\u001b[A\n",
      "fitting classifiers:   4%| | 28/750 [00:51<27:39,  2.30s/it, size=1, balance=0.4, classifier=LinearDiscriminantAnalysi\u001b[A\n",
      "fitting classifiers:   4%| | 29/750 [00:53<24:17,  2.02s/it, size=1, balance=0.4, classifier=LinearDiscriminantAnalysi\u001b[A\n",
      "fitting classifiers:   4%|▊                     | 29/750 [00:53<24:17,  2.02s/it, size=1, balance=0.4, classifier=SVC]\u001b[A\n",
      "fitting classifiers:   4%|▉                     | 30/750 [00:58<33:58,  2.83s/it, size=1, balance=0.4, classifier=SVC]\u001b[A\n",
      "fitting classifiers:   4%|▏    | 30/750 [00:58<33:58,  2.83s/it, size=1, balance=0.433, classifier=LogisticRegression]\u001b[A\n",
      "fitting classifiers:   4%|▏    | 31/750 [00:59<29:30,  2.46s/it, size=1, balance=0.433, classifier=LogisticRegression]\u001b[A\n",
      "fitting classifiers:   4%| | 31/750 [00:59<29:30,  2.46s/it, size=1, balance=0.433, classifier=LinearDiscriminantAnaly\u001b[A\n",
      "fitting classifiers:   4%| | 32/750 [01:01<25:33,  2.14s/it, size=1, balance=0.433, classifier=LinearDiscriminantAnaly\u001b[A\n",
      "fitting classifiers:   4%|▊                   | 32/750 [01:01<25:33,  2.14s/it, size=1, balance=0.433, classifier=SVC]\u001b[A\n",
      "fitting classifiers:   4%|▉                   | 33/750 [01:06<36:31,  3.06s/it, size=1, balance=0.433, classifier=SVC]\u001b[A\n"
     ]
    },
    {
     "name": "stderr",
     "output_type": "stream",
     "text": [
      "fitting classifiers:   4%|▏    | 33/750 [01:06<36:31,  3.06s/it, size=1, balance=0.467, classifier=LogisticRegression]\u001b[A\n",
      "fitting classifiers:   5%|▏    | 34/750 [01:07<31:12,  2.62s/it, size=1, balance=0.467, classifier=LogisticRegression]\u001b[A\n",
      "fitting classifiers:   5%| | 34/750 [01:07<31:12,  2.62s/it, size=1, balance=0.467, classifier=LinearDiscriminantAnaly\u001b[A\n",
      "fitting classifiers:   5%| | 35/750 [01:09<26:38,  2.24s/it, size=1, balance=0.467, classifier=LinearDiscriminantAnaly\u001b[A\n",
      "fitting classifiers:   5%|▉                   | 35/750 [01:09<26:38,  2.24s/it, size=1, balance=0.467, classifier=SVC]\u001b[A\n",
      "fitting classifiers:   5%|▉                   | 36/750 [01:14<37:57,  3.19s/it, size=1, balance=0.467, classifier=SVC]\u001b[A\n",
      "fitting classifiers:   5%|▎      | 36/750 [01:14<37:57,  3.19s/it, size=1, balance=0.5, classifier=LogisticRegression]\u001b[A\n",
      "fitting classifiers:   5%|▎      | 37/750 [01:16<32:24,  2.73s/it, size=1, balance=0.5, classifier=LogisticRegression]\u001b[A\n",
      "fitting classifiers:   5%| | 37/750 [01:16<32:24,  2.73s/it, size=1, balance=0.5, classifier=LinearDiscriminantAnalysi\u001b[A\n",
      "fitting classifiers:   5%| | 38/750 [01:17<27:35,  2.33s/it, size=1, balance=0.5, classifier=LinearDiscriminantAnalysi\u001b[A\n",
      "fitting classifiers:   5%|█                     | 38/750 [01:17<27:35,  2.33s/it, size=1, balance=0.5, classifier=SVC]\u001b[A\n",
      "fitting classifiers:   5%|█▏                    | 39/750 [01:23<40:00,  3.38s/it, size=1, balance=0.5, classifier=SVC]\u001b[A\n",
      "fitting classifiers:   5%|▎    | 39/750 [01:23<40:00,  3.38s/it, size=1, balance=0.533, classifier=LogisticRegression]\u001b[A\n",
      "fitting classifiers:   5%|▎    | 40/750 [01:25<34:01,  2.87s/it, size=1, balance=0.533, classifier=LogisticRegression]\u001b[A\n",
      "fitting classifiers:   5%| | 40/750 [01:25<34:01,  2.87s/it, size=1, balance=0.533, classifier=LinearDiscriminantAnaly\u001b[A\n",
      "fitting classifiers:   5%| | 41/750 [01:26<29:13,  2.47s/it, size=1, balance=0.533, classifier=LinearDiscriminantAnaly\u001b[A\n",
      "fitting classifiers:   5%|█                   | 41/750 [01:26<29:13,  2.47s/it, size=1, balance=0.533, classifier=SVC]\u001b[A\n",
      "fitting classifiers:   6%|█                   | 42/750 [01:32<40:11,  3.41s/it, size=1, balance=0.533, classifier=SVC]\u001b[A\n",
      "fitting classifiers:   6%|▎    | 42/750 [01:32<40:11,  3.41s/it, size=1, balance=0.567, classifier=LogisticRegression]\u001b[A\n",
      "fitting classifiers:   6%|▎    | 43/750 [01:34<34:15,  2.91s/it, size=1, balance=0.567, classifier=LogisticRegression]\u001b[A\n",
      "fitting classifiers:   6%| | 43/750 [01:34<34:15,  2.91s/it, size=1, balance=0.567, classifier=LinearDiscriminantAnaly\u001b[A\n",
      "fitting classifiers:   6%| | 44/750 [01:35<29:05,  2.47s/it, size=1, balance=0.567, classifier=LinearDiscriminantAnaly\u001b[A\n",
      "fitting classifiers:   6%|█▏                  | 44/750 [01:35<29:05,  2.47s/it, size=1, balance=0.567, classifier=SVC]\u001b[A\n",
      "fitting classifiers:   6%|█▏                  | 45/750 [01:41<40:23,  3.44s/it, size=1, balance=0.567, classifier=SVC]\u001b[A\n",
      "fitting classifiers:   6%|▍      | 45/750 [01:41<40:23,  3.44s/it, size=1, balance=0.6, classifier=LogisticRegression]\u001b[A\n",
      "fitting classifiers:   6%|▍      | 46/750 [01:42<34:31,  2.94s/it, size=1, balance=0.6, classifier=LogisticRegression]\u001b[A\n",
      "fitting classifiers:   6%| | 46/750 [01:42<34:31,  2.94s/it, size=1, balance=0.6, classifier=LinearDiscriminantAnalysi\u001b[A\n",
      "fitting classifiers:   6%| | 47/750 [01:44<29:46,  2.54s/it, size=1, balance=0.6, classifier=LinearDiscriminantAnalysi\u001b[A\n",
      "fitting classifiers:   6%|█▍                    | 47/750 [01:44<29:46,  2.54s/it, size=1, balance=0.6, classifier=SVC]\u001b[A\n",
      "fitting classifiers:   6%|█▍                    | 48/750 [01:50<41:00,  3.50s/it, size=1, balance=0.6, classifier=SVC]\u001b[A\n",
      "fitting classifiers:   6%|▎    | 48/750 [01:50<41:00,  3.50s/it, size=1, balance=0.633, classifier=LogisticRegression]\u001b[A\n",
      "fitting classifiers:   7%|▎    | 49/750 [01:52<35:48,  3.07s/it, size=1, balance=0.633, classifier=LogisticRegression]\u001b[A\n",
      "fitting classifiers:   7%| | 49/750 [01:52<35:48,  3.07s/it, size=1, balance=0.633, classifier=LinearDiscriminantAnaly\u001b[A\n",
      "fitting classifiers:   7%| | 50/750 [01:53<30:42,  2.63s/it, size=1, balance=0.633, classifier=LinearDiscriminantAnaly\u001b[A\n",
      "fitting classifiers:   7%|█▎                  | 50/750 [01:53<30:42,  2.63s/it, size=1, balance=0.633, classifier=SVC]\u001b[A\n",
      "fitting classifiers:   7%|█▎                  | 51/750 [01:58<38:48,  3.33s/it, size=1, balance=0.633, classifier=SVC]\u001b[A\n",
      "fitting classifiers:   7%|▎    | 51/750 [01:58<38:48,  3.33s/it, size=1, balance=0.667, classifier=LogisticRegression]\u001b[A\n",
      "fitting classifiers:   7%|▎    | 52/750 [02:00<33:36,  2.89s/it, size=1, balance=0.667, classifier=LogisticRegression]\u001b[A\n",
      "fitting classifiers:   7%| | 52/750 [02:00<33:36,  2.89s/it, size=1, balance=0.667, classifier=LinearDiscriminantAnaly\u001b[A\n",
      "fitting classifiers:   7%| | 53/750 [02:02<28:29,  2.45s/it, size=1, balance=0.667, classifier=LinearDiscriminantAnaly\u001b[A\n",
      "fitting classifiers:   7%|█▍                  | 53/750 [02:02<28:29,  2.45s/it, size=1, balance=0.667, classifier=SVC]\u001b[A\n",
      "fitting classifiers:   7%|█▍                  | 54/750 [02:06<33:19,  2.87s/it, size=1, balance=0.667, classifier=SVC]\u001b[A\n",
      "fitting classifiers:   7%|▌      | 54/750 [02:06<33:19,  2.87s/it, size=1, balance=0.7, classifier=LogisticRegression]\u001b[A\n",
      "fitting classifiers:   7%|▌      | 55/750 [02:07<28:53,  2.49s/it, size=1, balance=0.7, classifier=LogisticRegression]\u001b[A\n",
      "fitting classifiers:   7%| | 55/750 [02:07<28:53,  2.49s/it, size=1, balance=0.7, classifier=LinearDiscriminantAnalysi\u001b[A\n",
      "fitting classifiers:   7%| | 56/750 [02:09<24:58,  2.16s/it, size=1, balance=0.7, classifier=LinearDiscriminantAnalysi\u001b[A\n",
      "fitting classifiers:   7%|█▋                    | 56/750 [02:09<24:58,  2.16s/it, size=1, balance=0.7, classifier=SVC]\u001b[A\n",
      "fitting classifiers:   8%|█▋                    | 57/750 [02:13<32:52,  2.85s/it, size=1, balance=0.7, classifier=SVC]\u001b[A\n",
      "fitting classifiers:   8%|▍    | 57/750 [02:13<32:52,  2.85s/it, size=1, balance=0.733, classifier=LogisticRegression]\u001b[A\n",
      "fitting classifiers:   8%|▍    | 58/750 [02:15<30:28,  2.64s/it, size=1, balance=0.733, classifier=LogisticRegression]\u001b[A\n",
      "fitting classifiers:   8%| | 58/750 [02:15<30:28,  2.64s/it, size=1, balance=0.733, classifier=LinearDiscriminantAnaly\u001b[A\n",
      "fitting classifiers:   8%| | 59/750 [02:17<26:11,  2.27s/it, size=1, balance=0.733, classifier=LinearDiscriminantAnaly\u001b[A\n",
      "fitting classifiers:   8%|█▌                  | 59/750 [02:17<26:11,  2.27s/it, size=1, balance=0.733, classifier=SVC]\u001b[A\n",
      "fitting classifiers:   8%|█▌                  | 60/750 [02:21<31:44,  2.76s/it, size=1, balance=0.733, classifier=SVC]\u001b[A\n",
      "fitting classifiers:   8%|▍    | 60/750 [02:21<31:44,  2.76s/it, size=1, balance=0.767, classifier=LogisticRegression]\u001b[A\n",
      "fitting classifiers:   8%|▍    | 61/750 [02:22<27:44,  2.42s/it, size=1, balance=0.767, classifier=LogisticRegression]\u001b[A\n",
      "fitting classifiers:   8%| | 61/750 [02:22<27:44,  2.42s/it, size=1, balance=0.767, classifier=LinearDiscriminantAnaly\u001b[A\n",
      "fitting classifiers:   8%| | 62/750 [02:23<24:00,  2.09s/it, size=1, balance=0.767, classifier=LinearDiscriminantAnaly\u001b[A\n",
      "fitting classifiers:   8%|█▋                  | 62/750 [02:23<24:00,  2.09s/it, size=1, balance=0.767, classifier=SVC]\u001b[A\n",
      "fitting classifiers:   8%|█▋                  | 63/750 [02:26<25:59,  2.27s/it, size=1, balance=0.767, classifier=SVC]\u001b[A\n",
      "fitting classifiers:   8%|▌      | 63/750 [02:26<25:59,  2.27s/it, size=1, balance=0.8, classifier=LogisticRegression]\u001b[A\n",
      "fitting classifiers:   9%|▌      | 64/750 [02:28<23:32,  2.06s/it, size=1, balance=0.8, classifier=LogisticRegression]\u001b[A\n",
      "fitting classifiers:   9%| | 64/750 [02:28<23:32,  2.06s/it, size=1, balance=0.8, classifier=LinearDiscriminantAnalysi\u001b[A\n",
      "fitting classifiers:   9%| | 65/750 [02:29<21:03,  1.84s/it, size=1, balance=0.8, classifier=LinearDiscriminantAnalysi\u001b[A\n",
      "fitting classifiers:   9%|█▉                    | 65/750 [02:29<21:03,  1.84s/it, size=1, balance=0.8, classifier=SVC]\u001b[A\n",
      "fitting classifiers:   9%|█▉                    | 66/750 [02:31<22:43,  1.99s/it, size=1, balance=0.8, classifier=SVC]\u001b[A\n",
      "fitting classifiers:   9%|▍    | 66/750 [02:31<22:43,  1.99s/it, size=1, balance=0.833, classifier=LogisticRegression]\u001b[A\n"
     ]
    },
    {
     "name": "stderr",
     "output_type": "stream",
     "text": [
      "fitting classifiers:   9%|▍    | 67/750 [02:33<21:22,  1.88s/it, size=1, balance=0.833, classifier=LogisticRegression]\u001b[A\n",
      "fitting classifiers:   9%| | 67/750 [02:33<21:22,  1.88s/it, size=1, balance=0.833, classifier=LinearDiscriminantAnaly\u001b[A\n",
      "fitting classifiers:   9%| | 68/750 [02:35<21:27,  1.89s/it, size=1, balance=0.833, classifier=LinearDiscriminantAnaly\u001b[A\n",
      "fitting classifiers:   9%|█▊                  | 68/750 [02:35<21:27,  1.89s/it, size=1, balance=0.833, classifier=SVC]\u001b[A\n",
      "fitting classifiers:   9%|█▊                  | 69/750 [02:38<24:30,  2.16s/it, size=1, balance=0.833, classifier=SVC]\u001b[A\n",
      "fitting classifiers:   9%|▍    | 69/750 [02:38<24:30,  2.16s/it, size=1, balance=0.867, classifier=LogisticRegression]\u001b[A\n",
      "fitting classifiers:   9%|▍    | 70/750 [02:40<23:20,  2.06s/it, size=1, balance=0.867, classifier=LogisticRegression]\u001b[A\n",
      "fitting classifiers:   9%| | 70/750 [02:40<23:20,  2.06s/it, size=1, balance=0.867, classifier=LinearDiscriminantAnaly\u001b[A"
     ]
    }
   ],
   "source": [
    "\n",
    "pls_crossvals = []\n",
    "cvs = [\"KFold\", \"Stratified\", \"Stratified Group\"]\n",
    "\n",
    "# generate random data\n",
    "x, y, groups = gaussian_binary(n_samples_per_class=500, n_groups=5, mean_distance=1)\n",
    "# run the pipeline\n",
    "for cross_val in [KFold(n_splits=5), StratifiedKFold(n_splits=5), StratifiedGroupKFold(n_splits=5)]:\n",
    "    pl = Pipeline(\n",
    "        x,\n",
    "        y,\n",
    "        groups,\n",
    "        dataset_balance=np.linspace(0.1, 0.9, 25),\n",
    "        classifiers=[\"lr\", \"lda\", \"svm\"],# \"rf\"],\n",
    "        metrics=[\"roc_auc\", \"accuracy\", \"f1\", \"balanced_accuracy\"],\n",
    "        n_permutations=100,\n",
    "        n_init=10,\n",
    "        cross_validation=cross_val,\n",
    "    )\n",
    "    pl.evaluate()\n",
    "    pls_crossvals.append(deepcopy(pl))\n",
    "    \n",
    "\n",
    "\n"
   ]
  },
  {
   "cell_type": "code",
   "execution_count": null,
   "id": "2ca9e86e",
   "metadata": {
    "scrolled": false
   },
   "outputs": [
    {
     "name": "stderr",
     "output_type": "stream",
     "text": [
      "\n",
      "\n",
      "\n"
     ]
    }
   ],
   "source": [
    "# visualize the result\n",
    "fig, axes = plt.subplots(6, 3, figsize=(20, 30))\n",
    "figtitle = \"Synthetic data\"\n",
    "#fig.suptitle(figtitle, fontsize=25)\n",
    "classifiers=[\"lr\", \"lda\", \"svm\", \"rf\"]\n",
    "\n",
    "show_leg_distrib=True\n",
    "show_leg_metric=True\n",
    "for ax_idx,ax in enumerate(axes.flat):\n",
    "    ax.text(-0.1, 1.05, string.ascii_uppercase[ax_idx], transform=ax.transAxes, \n",
    "            size=20, weight='bold')\n",
    "    if ax_idx in [0,1,2]:\n",
    "        data_distribution(pls[ax_idx], ax=ax, show=False, show_leg=show_leg_distrib)\n",
    "        show_leg_distrib=False\n",
    "    elif ax_idx < 15:\n",
    "        metric_balance(pls[ax_idx%3], ax=ax, show=False, classifier=classifiers[(ax_idx-3)//3], show_leg=show_leg_metric)\n",
    "        show_leg_metric = False\n",
    "    elif ax_idx == 15:\n",
    "        metric_balance(pls_nsamples[0], ax=ax, show=False, classifier=\"svm\", show_leg=True)"
   ]
  },
  {
   "cell_type": "markdown",
   "id": "28dc0d0b",
   "metadata": {},
   "source": [
    "## Task 2 : EEG analysis"
   ]
  },
  {
   "cell_type": "code",
   "execution_count": null,
   "id": "6f01e040",
   "metadata": {
    "scrolled": true
   },
   "outputs": [],
   "source": [
    "#pipeline_path=\"../imbalance/data/eeg.pickle\"\n",
    "features_path =\"../imbalance/data/eeg_features.npy\"\n",
    "\n",
    "# load or generate dataset\n",
    "if not os.path.isfile(features_path):\n",
    "    x, y, groups = eegbci('../imbalance/data',roi=lambda x: x[0] in ['P','O'])\n",
    "    np.save(features_path,dict(x=x, y=y, groups=groups))\n",
    "else:\n",
    "    features = np.load(features_path,allow_pickle=True).item()\n",
    "    x, y, groups = features[\"x\"] , features[\"y\"] , features[\"groups\"]"
   ]
  },
  {
   "cell_type": "code",
   "execution_count": null,
   "id": "edcfb0b7",
   "metadata": {},
   "outputs": [],
   "source": [
    "pl = Pipeline(\n",
    "    x,\n",
    "    y,\n",
    "    groups,\n",
    "    dataset_balance=np.linspace(0.1, 0.9, 25),\n",
    "    classifiers=[\"lda\",\"svm\",\"lr\"],\n",
    "    metrics=[ \"roc_auc\",\"accuracy\", \"f1\", \"balanced_accuracy\"],\n",
    ")\n",
    "# fit and evaluate classifiers on dataset configurations\n",
    "pl.evaluate()"
   ]
  },
  {
   "cell_type": "code",
   "execution_count": null,
   "id": "b5d5f08f",
   "metadata": {},
   "outputs": [],
   "source": [
    "# visualize the result\n",
    "fig, axes = plt.subplots(2, 3, figsize=(20, 10))\n",
    "figtitle = \"EEG data\"\n",
    "#fig.suptitle(figtitle, fontsize=25)\n",
    "classifiers=[\"lr\", \"lda\", \"svm\", \"rf\"]\n",
    "\n",
    "for ax_idx,ax in enumerate(axes.flat):\n",
    "    ax.text(-0.1, 1.05, string.ascii_uppercase[ax_idx], transform=ax.transAxes, \n",
    "            size=20, weight='bold')\n",
    "    if ax_idx == 0:\n",
    "        data_distribution(pl, ax=ax, show=False)\n",
    "    elif ax_idx < 6:\n",
    "        metric_balance(pl, ax=ax, show=False, classifier=classifiers[ax_idx-1])"
   ]
  },
  {
   "cell_type": "code",
   "execution_count": null,
   "id": "d7d07702",
   "metadata": {},
   "outputs": [],
   "source": []
  },
  {
   "cell_type": "markdown",
   "id": "d5ad8490",
   "metadata": {},
   "source": [
    "## Task 3 : MEG 1"
   ]
  },
  {
   "cell_type": "code",
   "execution_count": null,
   "id": "049fb76e",
   "metadata": {},
   "outputs": [],
   "source": []
  },
  {
   "cell_type": "markdown",
   "id": "fe9a07e9",
   "metadata": {},
   "source": [
    "## Task 4 : MEG 2"
   ]
  },
  {
   "cell_type": "code",
   "execution_count": null,
   "id": "669197ac",
   "metadata": {},
   "outputs": [],
   "source": []
  },
  {
   "cell_type": "code",
   "execution_count": null,
   "id": "f0aae14e",
   "metadata": {},
   "outputs": [],
   "source": []
  }
 ],
 "metadata": {
  "kernelspec": {
   "display_name": "Python 3 (ipykernel)",
   "language": "python",
   "name": "python3"
  },
  "language_info": {
   "codemirror_mode": {
    "name": "ipython",
    "version": 3
   },
   "file_extension": ".py",
   "mimetype": "text/x-python",
   "name": "python",
   "nbconvert_exporter": "python",
   "pygments_lexer": "ipython3",
   "version": "3.8.0"
  }
 },
 "nbformat": 4,
 "nbformat_minor": 5
}
