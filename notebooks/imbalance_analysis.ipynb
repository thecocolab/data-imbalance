{
 "cells": [
  {
   "cell_type": "markdown",
   "id": "5a71df60",
   "metadata": {},
   "source": [
    "# Data imbalance analysis\n",
    "## Comparing the impact of dataset imbalance on classification performance metrics\n",
    "In this notebook, we are going to explore how data imbalance affect classification scores on four different tasks, which have been chosen to exemplify typical use cases of ML analysis in neuroscience. To keep it simple, we will focus on binary classification problems (0 vs 1).\n",
    "\n",
    "The four tasks are :\n",
    "1. Synthetic data\n",
    "2. EEG alpha oscillations (resting-state Eyes-Closed vs Eyes-Open)\n",
    "3. MEG alpha oscillations (auditory vs visual stimulation)\n",
    "4. MEG alpha oscillations (faces vs scrambled) \n",
    "\n",
    "In these tasks, we will observe the effect of data imbalance on 4 different performance metrics :   \n",
    "1. Decoding Accuracy (Acc)  \n",
    "2. Area Under the Curve (AUC)\n",
    "3. F1\n",
    "4. Balanced Accuracy (BAcc)\n",
    "\n",
    "Finally, a few parameters of the classification pipeline must be kept in mind as they can also differentially impact performance on imbalanced data. Namely :\n",
    "- Dataset size\n",
    "- Classifier type\n",
    "    - Support Vector Machine (SVM)\n",
    "    - Linear Discriminant Analysis (LDA)\n",
    "    - Logistic Regression (LR)\n",
    "    - Random Forest (RF)\n",
    "- Cross-validation scheme\n",
    "    - K-Fold, k=5\n",
    "    - Stratified K-Fold\n",
    "    - Group K-Fold"
   ]
  },
  {
   "cell_type": "markdown",
   "id": "6890f8a3",
   "metadata": {},
   "source": [
    "## Imports\n",
    "First, we start by importing functions from the provided toolbox as well as some useful plotting functions."
   ]
  },
  {
   "cell_type": "code",
   "execution_count": 1,
   "id": "70295ea0",
   "metadata": {},
   "outputs": [],
   "source": [
    "from imbalance.pipeline import Pipeline\n",
    "from imbalance.viz import metric_balance, data_distribution, plot_different_cvs, plot_different_n\n",
    "from imbalance.data import eegbci, gaussian_binary\n",
    "from joblib import Parallel, delayed\n",
    "from sklearn.model_selection import (\n",
    "    KFold,\n",
    "    StratifiedKFold,\n",
    "    StratifiedGroupKFold,\n",
    ")\n",
    "import os\n",
    "import numpy as np\n",
    "import matplotlib.pyplot as plt\n",
    "import string\n",
    "from copy import deepcopy\n",
    "import warnings\n",
    "warnings.simplefilter(\"ignore\", RuntimeWarning)"
   ]
  },
  {
   "cell_type": "markdown",
   "id": "25df7c6a",
   "metadata": {},
   "source": [
    "## Task 1 : Synthetic data\n",
    "For that first classification task, we will generate data from two gaussian distributions, with means of 0 and 2."
   ]
  },
  {
   "cell_type": "code",
   "execution_count": null,
   "id": "054bf96e",
   "metadata": {
    "scrolled": true
   },
   "outputs": [],
   "source": [
    "pls = []\n",
    "\n",
    "def run(distance):\n",
    "    # generate random data\n",
    "    x, y, groups = gaussian_binary(n_samples_per_class=500, mean_distance=distance)\n",
    "    # run the pipeline\n",
    "    pl = Pipeline(\n",
    "        x,\n",
    "        y,\n",
    "        groups,\n",
    "        dataset_balance=np.linspace(0.1, 0.9, 25),\n",
    "        classifiers=[\"lr\", \"lda\", \"svm\", \"rf\"],\n",
    "        n_permutations=100,\n",
    "        n_init=10,\n",
    "    )\n",
    "    pl.evaluate()\n",
    "    return deepcopy(pl)\n",
    "\n",
    "\n",
    "\n",
    "pls = Parallel(n_jobs=3)(delayed(run)(dist) for dist in [0, 1, 3])"
   ]
  },
  {
   "cell_type": "code",
   "execution_count": null,
   "id": "3718aaf2",
   "metadata": {},
   "outputs": [
    {
     "name": "stderr",
     "output_type": "stream",
     "text": [
      "fitting classifiers:  39%|████████             | 290/750 [01:30<01:51,  4.14it/s, size=1, balance=0.8, classifier=SVC]"
     ]
    }
   ],
   "source": [
    "# generate random data\n",
    "x, y, groups = gaussian_binary(n_samples_per_class=1500, mean_distance=1)\n",
    "# run the pipeline\n",
    "pl_nsamples = Pipeline(\n",
    "    x,\n",
    "    y,\n",
    "    groups,\n",
    "    dataset_balance=np.linspace(0.1, 0.9, 25),\n",
    "    classifiers=[\"svm\"],# \"rf\"]\n",
    "    n_permutations=0,\n",
    "    n_init=10,\n",
    "    dataset_size=(0.1, 0.33, 1),\n",
    ")\n",
    "pl_nsamples.evaluate()"
   ]
  },
  {
   "cell_type": "code",
   "execution_count": null,
   "id": "b3f00fcc",
   "metadata": {
    "scrolled": true
   },
   "outputs": [],
   "source": [
    "\n",
    "pls_crossvals = {}\n",
    "cv_names = [\"KFold\", \"Stratified\"]#, \"Stratified Group\"]\n",
    "cvs = [KFold(n_splits=5), StratifiedKFold(n_splits=5)]#, StratifiedGroupKFold(n_splits=5)]\n",
    "# generate random data\n",
    "x, y, groups = gaussian_binary(n_samples_per_class=50, n_groups=5, mean_distance=1)\n",
    "# run the pipeline\n",
    "for idx_cv, cross_val in enumerate(cvs):\n",
    "    pl = Pipeline(\n",
    "        x,\n",
    "        y,\n",
    "        groups,\n",
    "        dataset_balance=np.linspace(0.1, 0.9, 25),\n",
    "        classifiers=[\"lr\", \"lda\", \"svm\", \"rf\"],\n",
    "        n_permutations=1,\n",
    "        n_init=40,\n",
    "        cross_validation=cross_val,\n",
    "    )\n",
    "    pl.evaluate()\n",
    "    pls_crossvals[cv_names[idx_cv]] = deepcopy(pl)\n",
    "    \n",
    "\n",
    "\n"
   ]
  },
  {
   "cell_type": "code",
   "execution_count": null,
   "id": "2ca9e86e",
   "metadata": {
    "scrolled": false
   },
   "outputs": [],
   "source": [
    "# visualize the result\n",
    "fig, axes = plt.subplots(6, 3, figsize=(20, 30), dpi=300)\n",
    "figtitle = \"Synthetic data\"\n",
    "#fig.suptitle(figtitle, fontsize=25)\n",
    "classifiers=[\"lr\", \"lda\", \"svm\", \"rf\"]\n",
    "\n",
    "show_leg_distrib=True\n",
    "show_leg_metric=True\n",
    "for ax_idx,ax in enumerate(axes.flat):\n",
    "    ax.text(-0.1, 1.05, string.ascii_uppercase[ax_idx], transform=ax.transAxes, \n",
    "            size=20, weight='bold')\n",
    "    if ax_idx in [0,1,2]:\n",
    "        data_distribution(pls[ax_idx], ax=ax, show=False, show_leg=show_leg_distrib)\n",
    "        show_leg_distrib=False\n",
    "    elif ax_idx < 15:\n",
    "        metric_balance(pls[ax_idx%3], ax=ax, show=False, classifier=classifiers[(ax_idx-3)//3], show_leg=show_leg_metric)\n",
    "        show_leg_metric = False\n",
    "    elif ax_idx == 15:\n",
    "        plot_different_n(pl_nsamples, ax=ax, show=False, classifier=\"svm\", show_leg=True, metric=\"accuracy\")\n",
    "    elif ax_idx == 16:\n",
    "        plot_different_cvs(pls_crossvals, ax=ax, show=False, classifier=\"svm\", show_leg=True, metric=\"accuracy\")"
   ]
  },
  {
   "cell_type": "code",
   "execution_count": null,
   "id": "4e8d9450",
   "metadata": {},
   "outputs": [],
   "source": [
    "metrics=[ \"roc_auc\",\"accuracy\", \"f1\", \"balanced_accuracy\"]\n",
    "fig, axes = plt.subplots(2, 2, figsize=(20, 10))\n",
    "\n",
    "#pls_crossvals_light = pls_crossvals[:2]\n",
    "for ax_idx,ax in enumerate(axes.flat):\n",
    "    plot_different_cvs(pls_crossvals, ax=ax, show=False, classifier=\"svm\", show_leg=True, metric=metrics[ax_idx])"
   ]
  },
  {
   "cell_type": "code",
   "execution_count": null,
   "id": "c062dbe1",
   "metadata": {},
   "outputs": [],
   "source": [
    "plot_different_n(pl_nsamples, show=False, classifier=\"svm\", show_leg=True, metric=\"accuracy\")"
   ]
  },
  {
   "cell_type": "markdown",
   "id": "28dc0d0b",
   "metadata": {},
   "source": [
    "## Task 2 : EEG analysis"
   ]
  },
  {
   "cell_type": "code",
   "execution_count": null,
   "id": "6f01e040",
   "metadata": {
    "scrolled": true
   },
   "outputs": [],
   "source": [
    "#pipeline_path=\"../imbalance/data/eeg.pickle\"\n",
    "features_path =\"../imbalance/data/eeg_features.npy\"\n",
    "\n",
    "# load or generate dataset\n",
    "if not os.path.isfile(features_path):\n",
    "    x, y, groups = eegbci('../imbalance/data',roi=lambda x: x[0] in ['P','O'])\n",
    "    np.save(features_path,dict(x=x, y=y, groups=groups))\n",
    "else:\n",
    "    features = np.load(features_path,allow_pickle=True).item()\n",
    "    x, y, groups = features[\"x\"] , features[\"y\"] , features[\"groups\"]"
   ]
  },
  {
   "cell_type": "code",
   "execution_count": null,
   "id": "edcfb0b7",
   "metadata": {},
   "outputs": [],
   "source": [
    "pl = Pipeline(\n",
    "    x,\n",
    "    y,\n",
    "    groups,\n",
    "    dataset_balance=np.linspace(0.1, 0.9, 25),\n",
    "    classifiers=[\"lda\",\"svm\",\"lr\"],\n",
    "    metrics=[ \"roc_auc\",\"accuracy\", \"f1\", \"balanced_accuracy\"],\n",
    ")\n",
    "# fit and evaluate classifiers on dataset configurations\n",
    "pl.evaluate()"
   ]
  },
  {
   "cell_type": "code",
   "execution_count": null,
   "id": "b5d5f08f",
   "metadata": {},
   "outputs": [],
   "source": [
    "# visualize the result\n",
    "fig, axes = plt.subplots(2, 3, figsize=(20, 10))\n",
    "figtitle = \"EEG data\"\n",
    "#fig.suptitle(figtitle, fontsize=25)\n",
    "classifiers=[\"lr\", \"lda\", \"svm\", \"rf\"]\n",
    "\n",
    "for ax_idx,ax in enumerate(axes.flat):\n",
    "    ax.text(-0.1, 1.05, string.ascii_uppercase[ax_idx], transform=ax.transAxes, \n",
    "            size=20, weight='bold')\n",
    "    if ax_idx == 0:\n",
    "        data_distribution(pl, ax=ax, show=False)\n",
    "    elif ax_idx < 6:\n",
    "        metric_balance(pl, ax=ax, show=False, classifier=classifiers[ax_idx-1])"
   ]
  },
  {
   "cell_type": "code",
   "execution_count": null,
   "id": "d7d07702",
   "metadata": {},
   "outputs": [],
   "source": []
  },
  {
   "cell_type": "markdown",
   "id": "d5ad8490",
   "metadata": {},
   "source": [
    "## Task 3 : MEG 1"
   ]
  },
  {
   "cell_type": "code",
   "execution_count": null,
   "id": "049fb76e",
   "metadata": {},
   "outputs": [],
   "source": [
    "# visualize the result\n",
    "fig, axes = plt.subplots(2, 3, figsize=(20, 10))\n",
    "figtitle = \"MEG CAMCAN data\"\n",
    "#fig.suptitle(figtitle, fontsize=25)\n",
    "classifiers=[\"lr\", \"lda\", \"svm\", \"rf\"]\n",
    "\n",
    "for ax_idx,ax in enumerate(axes.flat):\n",
    "    ax.text(-0.1, 1.05, string.ascii_uppercase[ax_idx], transform=ax.transAxes, \n",
    "            size=20, weight='bold')\n",
    "    if ax_idx == 0:\n",
    "        data_distribution(pl, ax=ax, show=False)\n",
    "    elif ax_idx < 5:\n",
    "        metric_balance(pl, ax=ax, show=False, classifier=\"svm\")"
   ]
  },
  {
   "cell_type": "markdown",
   "id": "fe9a07e9",
   "metadata": {},
   "source": [
    "## Task 4 : MEG 2"
   ]
  },
  {
   "cell_type": "code",
   "execution_count": null,
   "id": "669197ac",
   "metadata": {},
   "outputs": [],
   "source": [
    "# generate random data\n",
    "x, y, groups = gaussian_binary(n_samples_per_class=1500, n_groups=5, mean_distance=1)\n",
    "# run the pipeline\n",
    "pl_nsamples = Pipeline(\n",
    "    x,\n",
    "    y,\n",
    "    groups,\n",
    "    dataset_balance=np.linspace(0.1, 0.9, 25),\n",
    "    classifiers=[\"svm\"],# \"rf\"],\n",
    "    metrics=[\"roc_auc\", \"accuracy\", \"f1\", \"balanced_accuracy\"],\n",
    "    n_permutations=0,\n",
    "    n_init=1,\n",
    "    dataset_size=(0.1, 0.33, 1)\n",
    ")\n",
    "pl_nsamples.evaluate()"
   ]
  },
  {
   "cell_type": "code",
   "execution_count": null,
   "id": "f0aae14e",
   "metadata": {},
   "outputs": [],
   "source": []
  },
  {
   "cell_type": "code",
   "execution_count": null,
   "id": "1e99171e",
   "metadata": {},
   "outputs": [],
   "source": []
  },
  {
   "cell_type": "code",
   "execution_count": null,
   "id": "6a40b5d2",
   "metadata": {},
   "outputs": [],
   "source": []
  },
  {
   "cell_type": "code",
   "execution_count": null,
   "id": "e83d65e2",
   "metadata": {},
   "outputs": [],
   "source": []
  }
 ],
 "metadata": {
  "kernelspec": {
   "display_name": "Python 3 (ipykernel)",
   "language": "python",
   "name": "python3"
  },
  "language_info": {
   "codemirror_mode": {
    "name": "ipython",
    "version": 3
   },
   "file_extension": ".py",
   "mimetype": "text/x-python",
   "name": "python",
   "nbconvert_exporter": "python",
   "pygments_lexer": "ipython3",
   "version": "3.8.0"
  }
 },
 "nbformat": 4,
 "nbformat_minor": 5
}
