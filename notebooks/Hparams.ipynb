{
 "cells": [
  {
   "cell_type": "code",
   "execution_count": 1,
   "id": "8c151831",
   "metadata": {},
   "outputs": [],
   "source": [
    "%load_ext autoreload\n",
    "%autoreload 2"
   ]
  },
  {
   "cell_type": "code",
   "execution_count": 2,
   "id": "61cdb11b",
   "metadata": {},
   "outputs": [],
   "source": [
    "import pickle\n",
    "import numpy as np\n",
    "from imbalance.pipeline import Pipeline\n",
    "from imbalance.data import gaussian_binary\n",
    "from imbalance.viz import metric_balance\n",
    "from sklearn.ensemble import RandomForestClassifier\n",
    "from sklearn.svm import SVC\n",
    "from sklearn.linear_model import LogisticRegression\n",
    "from joblib import Parallel, delayed\n",
    "from matplotlib import pyplot as plt"
   ]
  },
  {
   "cell_type": "code",
   "execution_count": 3,
   "id": "94c1f1a0",
   "metadata": {},
   "outputs": [],
   "source": [
    "x, y, groups = gaussian_binary(mean_distance=1)"
   ]
  },
  {
   "cell_type": "code",
   "execution_count": 4,
   "id": "0a11fb26",
   "metadata": {},
   "outputs": [],
   "source": [
    "classifiers = {\n",
    "    \"lr\": {\n",
    "        \"default\": LogisticRegression(class_weight=None),\n",
    "        \"balanced\": LogisticRegression(class_weight=\"balanced\")\n",
    "    },\n",
    "    \"svm\": {\n",
    "        \"default\": SVC(probability=True, class_weight=None),\n",
    "        \"balanced\": SVC(probability=True, class_weight=\"balanced\")\n",
    "        },\n",
    "    \"rf\": {\n",
    "        \"default\": RandomForestClassifier(n_estimators=25, class_weight=None),\n",
    "        \"balanced\": RandomForestClassifier(n_estimators=25, class_weight=\"balanced\"),\n",
    "        \"balanced_subsample\": RandomForestClassifier(n_estimators=25, class_weight=\"balanced_subsample\"),\n",
    "        \"min_weight_fraction_leaf=0.5\": RandomForestClassifier(n_estimators=25, min_weight_fraction_leaf=0.5),\n",
    "    }\n",
    "}"
   ]
  },
  {
   "cell_type": "code",
   "execution_count": null,
   "id": "47aebf3a",
   "metadata": {},
   "outputs": [
    {
     "name": "stderr",
     "output_type": "stream",
     "text": [
      "fitting classifiers:   6%|▌         | 14/250 [04:46<2:01:04, 30.78s/it, size=1, balance=0.567, classifier=SVC]cRegression]  \n",
      "\n",
      "fitting classifiers:   6%|▌         | 15/250 [05:20<2:03:33, 31.55s/it, size=1, balance=0.6, classifier=SVC]  "
     ]
    }
   ],
   "source": [
    "def run_pipeline(name, x, y, groups, clf):\n",
    "    pl = Pipeline(x, y, groups, classifiers=clf, n_permutations=100)\n",
    "    pl.evaluate()\n",
    "    return name, pl\n",
    "\n",
    "pls = {}\n",
    "for clf_name, clf_list in classifiers.items():\n",
    "    pls[clf_name] = Parallel(n_jobs=-1)(\n",
    "        delayed(run_pipeline)(name, x, y, groups, clf) for name, clf in clf_list.items()\n",
    "    )\n",
    "    pls[clf_name] = {name: pl for name, pl in pls[clf_name]}\n",
    "\n",
    "with open(\"hparams_pipelines.pkl\", \"wb\") as f:\n",
    "    pickle.dump(pls, f)"
   ]
  },
  {
   "cell_type": "code",
   "execution_count": null,
   "id": "febf98f1",
   "metadata": {},
   "outputs": [],
   "source": [
    "with open(\"hparams_pipelines.pkl\", \"rb\") as f:\n",
    "    pls = pickle.load(f)"
   ]
  },
  {
   "cell_type": "code",
   "execution_count": null,
   "id": "dd7c0279",
   "metadata": {},
   "outputs": [],
   "source": [
    "for clf_name in pls.keys():\n",
    "    fig, ax = plt.subplots()\n",
    "    lines = []\n",
    "    for i, curr_pl in enumerate(pls[clf_name].values()):\n",
    "        lines.extend(metric_balance(curr_pl, classifier=clf_name, color_offset=i, ax=ax, \n",
    "                                    ignore_metrics=[\"roc_auc\", \"balanced_accuracy\", \"f1\"],\n",
    "                                    show=False, show_leg=False, enforce_ylim=False))\n",
    "    ax.legend(lines, pls[clf_name].keys())"
   ]
  },
  {
   "cell_type": "code",
   "execution_count": null,
   "id": "3c4f6e33",
   "metadata": {},
   "outputs": [],
   "source": []
  }
 ],
 "metadata": {
  "kernelspec": {
   "display_name": "Python 3 (ipykernel)",
   "language": "python",
   "name": "python3"
  },
  "language_info": {
   "codemirror_mode": {
    "name": "ipython",
    "version": 3
   },
   "file_extension": ".py",
   "mimetype": "text/x-python",
   "name": "python",
   "nbconvert_exporter": "python",
   "pygments_lexer": "ipython3",
   "version": "3.8.0"
  }
 },
 "nbformat": 4,
 "nbformat_minor": 5
}
